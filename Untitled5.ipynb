{
 "cells": [
  {
   "cell_type": "code",
   "execution_count": 3,
   "id": "64cb6033-f5a1-45f7-87bf-384579770bf2",
   "metadata": {},
   "outputs": [],
   "source": [
    "import numpy as np \n",
    "import math"
   ]
  },
  {
   "cell_type": "code",
   "execution_count": 4,
   "id": "33842ab7-39c3-4edf-a13c-3abe91c2bec8",
   "metadata": {},
   "outputs": [
    {
     "data": {
      "text/plain": [
       "array([0.03, 0.08, 0.16, 0.21, 0.24, 0.28])"
      ]
     },
     "execution_count": 4,
     "metadata": {},
     "output_type": "execute_result"
    }
   ],
   "source": [
    "\n",
    "x=[0,1,2,3,4,5]\n",
    "y=[0,1,2,3]\n",
    "p=[[0,0.01,0.03,0.05,0.07,0.09],\n",
    "   [0.01,0.02,0.04,0.05,0.06,0.08],\n",
    "   [0.01,0.03,0.05,0.05,0.05,0.06],\n",
    "   [0.01,0.02,0.04,0.06,0.06,0.05]]\n",
    "px=np.sum(p,axis=0)\n",
    "py=np.sum(p,axis=1)\n",
    "Ex=np.inner(x,px)\n",
    "Ey=np.inner(y,py)\n",
    "px\n"
   ]
  },
  {
   "cell_type": "code",
   "execution_count": 5,
   "id": "7cb6d15c-b4ca-4aea-a778-42ab0e7c5c19",
   "metadata": {},
   "outputs": [
    {
     "data": {
      "text/plain": [
       "array([0.25, 0.26, 0.25, 0.24])"
      ]
     },
     "execution_count": 5,
     "metadata": {},
     "output_type": "execute_result"
    }
   ],
   "source": [
    "py"
   ]
  },
  {
   "cell_type": "code",
   "execution_count": 6,
   "id": "db256c31-1335-4f9a-b5f9-4d3722c1c569",
   "metadata": {},
   "outputs": [
    {
     "data": {
      "text/plain": [
       "3.3899999999999997"
      ]
     },
     "execution_count": 6,
     "metadata": {},
     "output_type": "execute_result"
    }
   ],
   "source": [
    "\n",
    "Ex\n"
   ]
  },
  {
   "cell_type": "code",
   "execution_count": 7,
   "id": "b3e9e4ef-34c7-44e5-b0c5-4d4019bc4163",
   "metadata": {},
   "outputs": [
    {
     "data": {
      "text/plain": [
       "1.48"
      ]
     },
     "execution_count": 7,
     "metadata": {},
     "output_type": "execute_result"
    }
   ],
   "source": [
    "Ey\n"
   ]
  },
  {
   "cell_type": "code",
   "execution_count": 8,
   "id": "a8019ca0-d111-4ffe-81de-f5d5bd43a29b",
   "metadata": {},
   "outputs": [
    {
     "data": {
      "text/plain": [
       "13.45"
      ]
     },
     "execution_count": 8,
     "metadata": {},
     "output_type": "execute_result"
    }
   ],
   "source": [
    "Ex2=np.inner(np.square(x),px)\n",
    "Ex2\n"
   ]
  },
  {
   "cell_type": "code",
   "execution_count": 9,
   "id": "cc304076-7cb4-4d08-9604-b7ee88ef0a3a",
   "metadata": {},
   "outputs": [
    {
     "data": {
      "text/plain": [
       "3.42"
      ]
     },
     "execution_count": 9,
     "metadata": {},
     "output_type": "execute_result"
    }
   ],
   "source": [
    "Ey2=np.inner(np.square(y),py)\n",
    "Ey2\n"
   ]
  },
  {
   "cell_type": "code",
   "execution_count": 10,
   "id": "1d8f789d-3a3e-45d2-b242-54b1111fa251",
   "metadata": {},
   "outputs": [
    {
     "data": {
      "text/plain": [
       "1.9579000000000022"
      ]
     },
     "execution_count": 10,
     "metadata": {},
     "output_type": "execute_result"
    }
   ],
   "source": [
    "vx=Ex2-Ex**2\n",
    "vx\n"
   ]
  },
  {
   "cell_type": "code",
   "execution_count": 11,
   "id": "e21343d5-0bdf-4760-b1ee-7b3fb8b5a13e",
   "metadata": {},
   "outputs": [
    {
     "data": {
      "text/plain": [
       "1.2296"
      ]
     },
     "execution_count": 11,
     "metadata": {},
     "output_type": "execute_result"
    }
   ],
   "source": [
    "vy=Ey2-Ey**2\n",
    "vy\n"
   ]
  },
  {
   "cell_type": "code",
   "execution_count": null,
   "id": "b4045c19-e44e-4599-9f15-1a4d0fd23ac2",
   "metadata": {},
   "outputs": [],
   "source": [
    "sx=math.sqrt(vx)\n",
    "sy=math.sqrt(vy)\n",
    "Exy=0\n",
    "for i in range(4):\n",
    "    for j in range(6):\n",
    "        Exy=Exy+x[j]*y[i]*p[i][j]\n",
    "Exy\n",
    "Cov=Exy-Ex*Ey\n",
    "Cov\n",
    "r=Cov/(sx*sy)\n",
    "r\n",
    "print(\"The coefficient-correlation %0.4f\"%r)"
   ]
  }
 ],
 "metadata": {
  "kernelspec": {
   "display_name": "Python 3 (ipykernel)",
   "language": "python",
   "name": "python3"
  },
  "language_info": {
   "codemirror_mode": {
    "name": "ipython",
    "version": 3
   },
   "file_extension": ".py",
   "mimetype": "text/x-python",
   "name": "python",
   "nbconvert_exporter": "python",
   "pygments_lexer": "ipython3",
   "version": "3.9.7"
  }
 },
 "nbformat": 4,
 "nbformat_minor": 5
}
